{
 "cells": [
  {
   "cell_type": "code",
   "execution_count": 1,
   "id": "8a5f642a-2adf-48da-8151-203a69bb73b5",
   "metadata": {},
   "outputs": [],
   "source": [
    "import pandas as pd\n",
    "import requests\n",
    "import re"
   ]
  },
  {
   "cell_type": "code",
   "execution_count": 2,
   "id": "cf52d3cc-ae46-4f9c-b8ea-397f97b45cd0",
   "metadata": {},
   "outputs": [],
   "source": [
    "# 1. download the most recent excel file from the shared folder\n",
    "df_all=pd.read_excel('FR Extension Products (2024.10.15.) copy.xlsx',sheet_name='Data 1110 (3)')\n",
    "\n",
    "# 2. filter by assignment\n",
    "df = df_all[df_all['Assignment'] == 'Nicolas']"
   ]
  },
  {
   "cell_type": "code",
   "execution_count": 33,
   "id": "f386ab78-23ea-49e4-8d77-daebaf1a10bb",
   "metadata": {},
   "outputs": [
    {
     "name": "stdout",
     "output_type": "stream",
     "text": [
      "[1/2] https://www.federalregister.gov/documents/full_text/text/2021/06/11/2021-12284.txt\n",
      "Failed to parse 2021-12284\n",
      "[2/2] https://www.federalregister.gov/documents/full_text/text/2022/01/12/2022-00404.txt\n",
      "Failed to parse 2022-00404\n"
     ]
    }
   ],
   "source": [
    "entries = []\n",
    "debug=False\n",
    "\n",
    "documents = df[df['Testing Phase'].isna()]['document_number'].values\n",
    "for i,ID in enumerate(documents):\n",
    "\n",
    "    # 1. get document text url\n",
    "    text_url = requests.get(f'https://www.federalregister.gov/api/v1/documents/{ID}.json').json()['raw_text_url']\n",
    "    print(f'[{i+1}/{len(documents)}] {text_url}')\n",
    "    \n",
    "    # 2. retrieve document text\n",
    "    text = requests.get(text_url).content.decode('utf-8')\n",
    "\n",
    "    try:\n",
    "        # 3. parse text\n",
    "        if ID=='2021-23719':\n",
    "            product_name = 'SPINRAZA'\n",
    "            patent_no = 'U.S. Patent Nos. 7,838,657 and 8,110,560 from University of Massachusetts, and U.S. Patent Nos. 8,361,977 and 8,980,853 from Biogen MA Inc., and Cold Spring Harbor Laboratory'\n",
    "            company = 'University of Massachusetts and Biogen MA Inc., and Cold Spring Harbor Laboratory'\n",
    "        else:\n",
    "            name_patent_company = re.search(r'for\\s+([,\\-A-z\\s0-9]+?)\\s+\\(U\\.S\\.\\s+Patent\\s+No.*?\\s+(.*?)\\)\\s+from\\s+(.*?),?\\s+and', text,re.DOTALL)\n",
    "            product_name = name_patent_company.group(1).replace('\\n','')\n",
    "            patent_no = name_patent_company.group(2).replace('\\n','').replace(',','')\n",
    "            company = name_patent_company.group(3).replace('\\n','')\n",
    "        periods = re.search(r'regulatory\\sreview\\speriod.*?([\\d,]+)\\s+days.*?([\\d,]+)\\s+days.*?([\\d,]+)\\s+days', text, re.DOTALL)\n",
    "    \n",
    "        nda_pma_filing_date = None\n",
    "        def match(text):\n",
    "            yield re.search(r'new\\s+drug\\s+application.*?([A-z]+\\s+[0-9]+,\\s+[0-9]+)', text, re.DOTALL)\n",
    "            yield re.search(r'1\\..*?([A-z]+\\s+[0-9]+,\\s+[0-9]+).*?IDE\\s+effective\\s+date', text, re.DOTALL)\n",
    "            yield re.search(r'1\\..*?FDA\\s+has\\s+verified.*?([A-z]+\\s+[0-9]+,\\s+[0-9]+)', text, re.DOTALL)\n",
    "        for result in match(text):\n",
    "            nda_pma_filing_date = result\n",
    "            if nda_pma_filing_date is not None:\n",
    "                break\n",
    "        nda_pma_filing_date = nda_pma_filing_date.group(1).replace('\\n','')\n",
    "    \n",
    "        pat_term_ext = None\n",
    "        def match(text):\n",
    "            yield re.search(r'([\\d,]+)\\s+days\\s+of\\s+patent\\s+term\\s+extension', text)\n",
    "            yield re.search(r'3\\..*?applicant\\s+seeks\\s([\\d,]+)\\s+days', text, re.DOTALL)\n",
    "            yield re.search(r'3\\..*?applicant\\s+seeks\\s([\\d,]+)\\s+years', text, re.DOTALL) # time specified in years NOT days\n",
    "        if ID=='2019-25821':\n",
    "            pat_term_ext = '5 days, 1,168 days, or 501 days'\n",
    "        elif re.search(r'applicant\\s+seeks\\s+zero\\s+days\\s+of\\s+patent\\s+term\\s+extension', text) is not None:\n",
    "            pat_term_ext = '0'            \n",
    "        else:\n",
    "            for result in match(text):\n",
    "                pat_term_ext = result\n",
    "                if pat_term_ext is not None:\n",
    "                    break\n",
    "            pat_term_ext = pat_term_ext.group(1).replace('\\n','').replace(',','')\n",
    "    \n",
    "        approval_date = None\n",
    "        def match(text):\n",
    "            yield re.search(r'date\\s+the\\s+application\\s+was\\s+approved.*?([A-z]+\\s+[0-9]+,\\s+[0-9]+)', text, re.DOTALL)\n",
    "            yield re.search(r'3\\..*?FDA\\s+has\\s+verified.*?approved.*?([A-z]+\\s+[0-9]+,\\s+[0-9]+)', text, re.DOTALL)\n",
    "        for result in match(text):\n",
    "            approval_date = result\n",
    "            if approval_date is not None:\n",
    "                break\n",
    "        approval_date = approval_date.group(1).replace('\\n','')\n",
    "\n",
    "        match = re.search(r'(NDA|ANDA|BLA|IND|PMA|NADA)\\s+(B?P?[0-9]+-?[0-9]*)', text, re.DOTALL)\n",
    "        application_no = match.group(1)+' '+match.group(2)\n",
    "    \n",
    "        # 4. assemble entry\n",
    "        entry = {\n",
    "            \"document_number\": ID,\n",
    "            \"product_name\": product_name,\n",
    "            \"patent_no\": patent_no,\n",
    "            \"company\": company,\n",
    "            \"reg_review_period\": periods.group(1).replace('\\n','').replace(',',''),\n",
    "            \"testing_phase\": periods.group(2).replace('\\n','').replace(',',''),\n",
    "            \"approval_phase\": periods.group(3).replace('\\n','').replace(',',''),\n",
    "            \"ind_die_filing_date\": re.search(r'1\\..*?([A-z]+\\s+[0-9]+,\\s+[0-9]+)', text, re.DOTALL).group(1).replace('\\n',''),\n",
    "            # \"ind_die_filing_date\": re.search(r'IND\\s+effective\\s+date.*?([A-z]+\\s+[0-9]+,\\s+[0-9]+)', text, re.DOTALL).group(1).replace('\\n',''),\n",
    "            \"nda_pma_filing_date\": nda_pma_filing_date,\n",
    "            \"approval_date\": approval_date,\n",
    "            \"application_no\": application_no,\n",
    "            \"pat_term_ext\": pat_term_ext,\n",
    "        }\n",
    "        \n",
    "        # 5. append to list\n",
    "        entries.append(entry)\n",
    "    except AttributeError as e:\n",
    "        print(f'Failed to parse {ID}')\n",
    "        if debug: raise"
   ]
  },
  {
   "cell_type": "code",
   "execution_count": 34,
   "id": "d9f2e432-4cce-4a10-98ad-574896ff4761",
   "metadata": {},
   "outputs": [
    {
     "data": {
      "text/plain": [
       "[]"
      ]
     },
     "execution_count": 34,
     "metadata": {},
     "output_type": "execute_result"
    }
   ],
   "source": [
    "# 6. preview results\n",
    "entries"
   ]
  },
  {
   "cell_type": "code",
   "execution_count": 35,
   "id": "b6d6a48c-ab63-4431-b301-7c887d4ee276",
   "metadata": {},
   "outputs": [],
   "source": [
    "# 7. update dataframe\n",
    "for e in entries:\n",
    "    loc = df.index[df['document_number'] == e['document_number']].tolist()[0]\n",
    "    df.loc[loc, 'Product Name'] = e['product_name']\n",
    "    df.loc[loc, 'Patent No.'] = e['patent_no']\n",
    "    df.loc[loc, 'Company'] = e['company']\n",
    "    df.loc[loc, 'Reg Rev Period'] = float(e['reg_review_period'])\n",
    "    df.loc[loc, 'Testing Phase'] = e['testing_phase']\n",
    "    df.loc[loc, 'Approval Phase'] = float(e['approval_phase'])\n",
    "    df.loc[loc, 'IND/IDE Filing Date'] = e['ind_die_filing_date']\n",
    "    df.loc[loc, 'NDA/PMA Filing Date'] = e['nda_pma_filing_date']\n",
    "    df.loc[loc, 'Approval Date'] = e['approval_date']\n",
    "    df.loc[loc, 'Application No.'] = e['application_no']\n",
    "    df.loc[loc, 'Pat Term Ext'] = e['pat_term_ext']\n",
    "\n",
    "# 8. save dataframe\n",
    "df.to_csv('results.csv',index=False)"
   ]
  }
 ],
 "metadata": {
  "kernelspec": {
   "display_name": "Python 3 (ipykernel)",
   "language": "python",
   "name": "python3"
  },
  "language_info": {
   "codemirror_mode": {
    "name": "ipython",
    "version": 3
   },
   "file_extension": ".py",
   "mimetype": "text/x-python",
   "name": "python",
   "nbconvert_exporter": "python",
   "pygments_lexer": "ipython3",
   "version": "3.12.3"
  }
 },
 "nbformat": 4,
 "nbformat_minor": 5
}
